{
  "nbformat": 4,
  "nbformat_minor": 0,
  "metadata": {
    "colab": {
      "provenance": []
    },
    "kernelspec": {
      "name": "python3",
      "display_name": "Python 3"
    },
    "language_info": {
      "name": "python"
    }
  },
  "cells": [
    {
      "cell_type": "markdown",
      "source": [
        "**MEMBROS DO GRUPO**\n",
        "\n",
        "Gabriel Meirelles Carvalho Orlando 790728\n",
        "\n",
        "Giullio Emmanuel 790965\n",
        "\n",
        "Jorge Luiz Medeiros Pires 790942\n",
        "\n",
        "Lucas Martins de Almeida 758983\n",
        "\n",
        "Pedro Gonçalves dos Santos 794042"
      ],
      "metadata": {
        "id": "iuwXm5P9FTWV"
      }
    },
    {
      "cell_type": "markdown",
      "source": [
        "# Setup\n"
      ],
      "metadata": {
        "id": "JzMPmayamwOv"
      }
    },
    {
      "cell_type": "markdown",
      "source": [
        "Para rodar os códigos e verificar a eficácia dos algoritmos, é necessário baixar os arquivos de input direto do GitHub"
      ],
      "metadata": {
        "id": "zjli4msSm2JC"
      }
    },
    {
      "cell_type": "code",
      "source": [
        "!wget /content/ https://raw.githubusercontent.com/PedroGSantos/Median-of-a-Set/main/inputs/input.in"
      ],
      "metadata": {
        "colab": {
          "base_uri": "https://localhost:8080/"
        },
        "id": "bxkuvCJEswto",
        "outputId": "435bb68a-3ade-4878-d885-6c958d959009"
      },
      "execution_count": 24,
      "outputs": [
        {
          "output_type": "stream",
          "name": "stdout",
          "text": [
            "/content/: Scheme missing.\n",
            "--2024-01-28 15:34:23--  https://raw.githubusercontent.com/PedroGSantos/Median-of-a-Set/main/inputs/input.in\n",
            "Resolving raw.githubusercontent.com (raw.githubusercontent.com)... 185.199.108.133, 185.199.109.133, 185.199.110.133, ...\n",
            "Connecting to raw.githubusercontent.com (raw.githubusercontent.com)|185.199.108.133|:443... connected.\n",
            "HTTP request sent, awaiting response... 200 OK\n",
            "Length: 17 [text/plain]\n",
            "Saving to: ‘input.in’\n",
            "\n",
            "\rinput.in              0%[                    ]       0  --.-KB/s               \rinput.in            100%[===================>]      17  --.-KB/s    in 0s      \n",
            "\n",
            "2024-01-28 15:34:23 (1.34 MB/s) - ‘input.in’ saved [17/17]\n",
            "\n",
            "FINISHED --2024-01-28 15:34:23--\n",
            "Total wall clock time: 0.06s\n",
            "Downloaded: 1 files, 17 in 0s (1.34 MB/s)\n"
          ]
        }
      ]
    },
    {
      "cell_type": "markdown",
      "source": [
        "# Enunciado\n"
      ],
      "metadata": {
        "id": "xgNIhkx8Fenl"
      }
    },
    {
      "cell_type": "markdown",
      "source": [
        "**1 Median of a set**\n",
        "\n",
        "The median is described as the number separating the higher half of a sample, a population, or a probability distribution, from the lower half. The median of a finite list of numbers can be found by arranging all the observations from lowest to highest value and picking the middle one. If there is an even number of observations, the median is the mean of the two middle values.\n",
        "\n",
        "For example:\n",
        "\n",
        "*   1,2,3,4,5 : The median is 3.\n",
        "\n",
        "*   1,5,9,2,8,4: The median is 4.5.\n",
        "\n",
        "\n",
        "Compute the median of a given set of values."
      ],
      "metadata": {
        "id": "sfoJNBiAlhBs"
      }
    },
    {
      "cell_type": "markdown",
      "source": [
        "# Ambiente de teste utilizado"
      ],
      "metadata": {
        "id": "t7IstHbqqbEO"
      }
    },
    {
      "cell_type": "markdown",
      "source": [
        "Para a realização dos nosso experimentos, utilizamos um servidor externo, já que o Google Collab apresenta diversas instabilidade e possui apenas uma GPU o que limita um pouco os nossos testes. Dessa maneira utilizamos um servidor, que para funcionar utiliza um sistema de docker e  está na UFSCAR, sendo gerenciado pelo Professor Hermes, e tem as seguintes configurações:\n",
        "\n",
        "💡 RAM: 128 GB\n",
        "\n",
        "💡 Processor: 2 Intel(R) Xeon(R) Silver 4208 CPU\n",
        "\n",
        "💡 GPU: 3 NVIDIA GeForce RTX 2080 Super\n",
        "\n",
        "💡 Ubuntu 22.04\n",
        "\n",
        "💡 CUDA 12.0\n",
        "\n",
        "💡 Docker Version: 20.10.21"
      ],
      "metadata": {
        "id": "7pBmRbbmqdN-"
      }
    },
    {
      "cell_type": "markdown",
      "source": [
        "# Código base sequencial\n"
      ],
      "metadata": {
        "id": "cg6vdL2IHmBh"
      }
    },
    {
      "cell_type": "markdown",
      "source": [
        "O código abaixo consiste em uma implementação oficial da Maratona de Programação Paralela para o cálculo da mediana. Ele não utiliza ordenação para descobrir a mediana, mas sim uma contagem de frequência dos valores através dos índices de outro array. Através dessa contagem, conseguimos passar por esse array auxiliar até chegar no elemento central, fornecendo o valor central, caso a quantidade de números seja impar, ou somando com o próximo elemento e dividindo por 2, caso a quantidade de números seja par."
      ],
      "metadata": {
        "id": "geTYid-wHGdY"
      }
    },
    {
      "cell_type": "code",
      "source": [
        "%%writefile seq_median_oficial.cpp\n",
        "\n",
        "#include <iostream>\n",
        "#include <fstream>\n",
        "\n",
        "typedef uint uint;\n",
        "const uint MAX_VALUE = 1<<20;\n",
        "\n",
        "int main(int argc, char* argv[]) {\n",
        "     uint n_seen = 0;\n",
        "     uint value;\n",
        "     uint count[MAX_VALUE];\n",
        "\n",
        "     // Initializes the array\n",
        "     for(uint i = 0; i < MAX_VALUE; ++i) {\n",
        "          count[i] = 0;\n",
        "     }\n",
        "\n",
        "     // Reads the input file\n",
        "     std::ifstream input(argv[1]);\n",
        "     input >> value;\n",
        "     while (!input.eof()) {\n",
        "          ++n_seen;\n",
        "          ++count[value];  // Counts the ocurrence of a number\n",
        "          input >> value;\n",
        "     }\n",
        "     input.close();\n",
        "\n",
        "     // Open the output file\n",
        "     std::ofstream output(\"problem_output\");\n",
        "\n",
        "     // Searching for the median\n",
        "     uint half_seen = n_seen/2;\n",
        "     // This algorithm assumes a odd numbered set. If it is even, then we\n",
        "     // can \"remove\" the last element, making the set odd without altering\n",
        "     // the results. This will be done subtracting 1 from the hals_seen.\n",
        "     // Eventually we will restore the value removed and fix our median.\n",
        "     if (n_seen % 2 == 0) --half_seen;\n",
        "     uint median = 0;\n",
        "     uint seen_until_median = count[0];\n",
        "     while (seen_until_median <= half_seen && median < MAX_VALUE) {\n",
        "          ++median;\n",
        "          seen_until_median = seen_until_median + count[median];\n",
        "     };\n",
        "\n",
        "     if (n_seen % 2) {\n",
        "          output << median << std::endl;\n",
        "     } else {\n",
        "          double mean_median = median;\n",
        "          ++median;\n",
        "          while (count[median] == 0) ++median;\n",
        "          mean_median = (mean_median+median)/2.0;\n",
        "          output << mean_median << std::endl;\n",
        "     }\n",
        "     output.close();\n",
        "\n",
        "}"
      ],
      "metadata": {
        "colab": {
          "base_uri": "https://localhost:8080/"
        },
        "id": "CGIKJk8JFg6g",
        "outputId": "929af139-e807-49d9-fa9b-57a71f1608ba"
      },
      "execution_count": 1,
      "outputs": [
        {
          "output_type": "stream",
          "name": "stdout",
          "text": [
            "Writing seq_median_oficial.cpp\n"
          ]
        }
      ]
    },
    {
      "cell_type": "markdown",
      "source": [
        "Utilizando um arquivo de input e o utilitário ***time***, podemos observar o tempo de execução desse algoritmo de contagem. No teste abaixo, o algoritmo é executado 3 vezes, visto que, em programação paralela, é essencial pegarmos uma média do tempo em várias execuções diferentes."
      ],
      "metadata": {
        "id": "aTEDcX5GKuPa"
      }
    },
    {
      "cell_type": "code",
      "source": [
        "%%writefile run_seq_oficial.sh\n",
        "\n",
        "#!/bin/bash\n",
        "\n",
        "# Compilando\n",
        "! g++ seq_median_oficial.cpp -o seq_median_oficial\n",
        "\n",
        "for j in {1..3}; do\n",
        "  echo\n",
        "  echo \"run $j\"\n",
        "  time ./seq_median_oficial input.in > /dev/null\n",
        "done\n"
      ],
      "metadata": {
        "colab": {
          "base_uri": "https://localhost:8080/"
        },
        "id": "dvSBEXmSgA1I",
        "outputId": "33c08b5f-8768-4722-d517-32344309167c"
      },
      "execution_count": 13,
      "outputs": [
        {
          "output_type": "stream",
          "name": "stdout",
          "text": [
            "Writing run_seq_oficial.sh\n"
          ]
        }
      ]
    },
    {
      "cell_type": "code",
      "source": [
        "! chmod +x run_seq_oficial.sh;\n",
        "! ./run_seq_oficial.sh"
      ],
      "metadata": {
        "colab": {
          "base_uri": "https://localhost:8080/"
        },
        "id": "5S0QBuSzeXyv",
        "outputId": "288adcbc-3447-47d6-c08f-3c2c61db2585"
      },
      "execution_count": 14,
      "outputs": [
        {
          "output_type": "stream",
          "name": "stdout",
          "text": [
            "\n",
            "run 1\n",
            "\n",
            "real\t0m0.011s\n",
            "user\t0m0.005s\n",
            "sys\t0m0.006s\n",
            "\n",
            "run 2\n",
            "\n",
            "real\t0m0.012s\n",
            "user\t0m0.005s\n",
            "sys\t0m0.007s\n",
            "\n",
            "run 3\n",
            "\n",
            "real\t0m0.011s\n",
            "user\t0m0.005s\n",
            "sys\t0m0.006s\n"
          ]
        }
      ]
    },
    {
      "cell_type": "markdown",
      "source": [
        "Partindo para uma primeira análise, podemos observar que existem soluções que utilizam ordenação para descobrir a mediana de um conjunto de dados, logo, seria uma possível implementação com melhor desempenho sequencial. O código abaixo consiste em uma implementação usando a primitiva sort do cpp, que é muito otimizada e consegue lidar com grandes conjuntos de dados, dessa maneira a mediana esperada é realmente 5.5\n"
      ],
      "metadata": {
        "id": "4K00PKoxt5Ha"
      }
    },
    {
      "cell_type": "code",
      "source": [
        "%%writefile seq_median_sort.cpp\n",
        "\n",
        "#include <algorithm>\n",
        "#include <cstdlib>\n",
        "#include <iostream>\n",
        "#include <stdlib.h>\n",
        "#include <fstream>\n",
        "\n",
        "int main( int argc, char *argv[]) {\n",
        "  uint value;\n",
        "\n",
        "  std::vector<uint> vec;\n",
        "\n",
        "\n",
        "  // Reads the input file\n",
        "  std::ifstream input(argv[1]);\n",
        "  input >> value;\n",
        "  while (!input.eof()) {\n",
        "      vec.push_back(value);\n",
        "      input >> value;\n",
        "  }\n",
        "  input.close();\n",
        "\n",
        "  // sort data on the device (846M keys per second on GeForce GTX 480)\n",
        "  std::sort(vec.begin(), vec.end());\n",
        "\n",
        "  double median = 0;\n",
        "\n",
        "  if (vec.size() % 2 == 1){\n",
        "   median = vec[(vec.size()-1)/2] ;\n",
        "  }\n",
        "\n",
        "  else\n",
        "    median = (vec[(vec.size()/2)-1] + vec[vec.size()/2]) / 2.0;\n",
        "\n",
        "\n",
        "\n",
        "    printf(\"The median is %.3lf\\n\",median);\n",
        "\n",
        "  return 0;\n",
        "}\n"
      ],
      "metadata": {
        "id": "2IDhDuIAlSh3",
        "colab": {
          "base_uri": "https://localhost:8080/"
        },
        "outputId": "3df33982-c2bd-4470-d225-95d5269652d7"
      },
      "execution_count": 16,
      "outputs": [
        {
          "output_type": "stream",
          "name": "stdout",
          "text": [
            "Writing seq_median_sort.cpp\n"
          ]
        }
      ]
    },
    {
      "cell_type": "markdown",
      "source": [
        "Ao observar o resultado abaixo, utilizando o mesmo input do algoritmo anterior da Maratona de Programação Paralela, vimos que optar por fazer uma ordenação com a primitiva sort garante uma melhora no desempenho da aplicação, tendo um tempo menor de **0m0.003s**, mesmo sem usar algum elemento de paralelismo."
      ],
      "metadata": {
        "id": "0XsAPWpjRDa9"
      }
    },
    {
      "cell_type": "code",
      "source": [
        "%%writefile run_seq_sort.sh\n",
        "\n",
        "#!bin/bash\n",
        "\n",
        "# Compilando\n",
        "! g++ seq_median_sort.cpp -o seq_median_sort\n",
        "\n",
        "for i in {1..3}; do\n",
        "  echo\n",
        "  echo \"run $i\"\n",
        "  time ./seq_median_sort input.in > /dev/null\n",
        "done\n"
      ],
      "metadata": {
        "colab": {
          "base_uri": "https://localhost:8080/"
        },
        "id": "rBopZfVJkLwi",
        "outputId": "6b5c1e91-e5f0-4c35-8112-728aa25f156b"
      },
      "execution_count": 17,
      "outputs": [
        {
          "output_type": "stream",
          "name": "stdout",
          "text": [
            "Writing run_seq_sort.sh\n"
          ]
        }
      ]
    },
    {
      "cell_type": "code",
      "source": [
        "! chmod +x run_seq_sort.sh;\n",
        "! ./run_seq_sort.sh"
      ],
      "metadata": {
        "colab": {
          "base_uri": "https://localhost:8080/"
        },
        "id": "CjeHCMfttUxC",
        "outputId": "6b85093b-6566-45b5-e474-70e92251214c"
      },
      "execution_count": 19,
      "outputs": [
        {
          "output_type": "stream",
          "name": "stdout",
          "text": [
            "\n",
            "run 1\n",
            "\n",
            "real\t0m0.003s\n",
            "user\t0m0.001s\n",
            "sys\t0m0.002s\n",
            "\n",
            "run 2\n",
            "\n",
            "real\t0m0.003s\n",
            "user\t0m0.001s\n",
            "sys\t0m0.001s\n",
            "\n",
            "run 3\n",
            "\n",
            "real\t0m0.002s\n",
            "user\t0m0.000s\n",
            "sys\t0m0.002s\n"
          ]
        }
      ]
    },
    {
      "cell_type": "markdown",
      "source": [
        "# OpenMP\n"
      ],
      "metadata": {
        "id": "UgP0wJeYHTD8"
      }
    },
    {
      "cell_type": "markdown",
      "source": [],
      "metadata": {
        "id": "b-LZjvHI-Zs0"
      }
    },
    {
      "cell_type": "markdown",
      "source": [
        "# GPU"
      ],
      "metadata": {
        "id": "YUUv3KKDHX82"
      }
    },
    {
      "cell_type": "markdown",
      "source": [
        "Para o processamento em GPU utilizando CUDA, foi utilizados três estratégias diferentes para o cálculo da mediana. Todas as estratégias utilizavam a ideia de ordenar e depois pegar a mediana, tal que se o tamanho do vetor fosse ímpar a posição N/2 era escolhida como mediana e caso o tamanho do vetor fosse par a mediana seria a média entre a posição (N/2)-1 e (N/2). Entretanto, utilizamos diferentes técnicas de ordenação para conseguir apresentar estratégias diferentes para ordenar o nosso vetor.\n",
        "\n",
        "1. **Primeira Estratégia: Diretivas da NVIDIA**\n",
        "\n",
        "  A diretiva thrust da NVIDIA é uma biblioteca de programação paralela em C++ que facilita a implementação de algoritmos paralelos em GPUs NVIDIA usando CUDA. Ela oferece uma abstração de alto nível para simplificar o desenvolvimento de código paralelo e facilitar a portabilidade entre CPUs e GPUs.\n",
        "\n",
        "  A função thrust::sort é utilizada para ordenar elementos em um vetor ou em uma sequência. A implementação exata do algoritmo de ordenação depende do tipo de dados e do contexto em que thrust::sort é aplicado. No entanto, em geral, a thrust pode usar diferentes algoritmos de ordenação, dependendo do tamanho do conjunto de dados e do tipo de hardware disponível.\n",
        "\n",
        "  Para conjuntos de dados pequenos, a thrust pode usar algoritmos de ordenação baseados em comparação, como o mergesort ou quicksort. No entanto, para conjuntos de dados maiores, a thrust pode utilizar algoritmos de ordenação mais eficientes em termos de paralelismo, como o radix sort ou o merge sort paralelo.\n",
        "\n",
        "2. **Segunda estratégia: Bitonic Sort**\n",
        "\n",
        "  O Bitonic Sort é um algoritmo de ordenação paralela que foi projetado para ser executado eficientemente em arquiteturas paralelas, como GPUs (Graphics Processing Units). Esse algoritmo é especialmente adequado para sistemas que suportam operações de comparação em paralelo.\n",
        "\n",
        "  O Bitonic Sort é baseado em uma sequência bitônica, que é uma sequência que começa em ordem crescente, atinge um ponto onde os elementos são os maiores e, a partir desse ponto, os elementos são ordenados em ordem decrescente. O algoritmo assume que a sequência a ser ordenada é uma sequência bitônica.\n",
        "\n",
        "  A ideia central do Bitonic Sort é dividir repetidamente a sequência em subsequências bitônicas menores e, em seguida, combinar essas subsequências em uma sequência bitônica maior até que a ordenação seja concluída.\n",
        "\n",
        "\n",
        "3. **Terceira estratégia: Merge Sort**\n",
        "\n",
        "  O Mergesort é um algoritmo de ordenação eficiente e baseado na técnica de dividir para conquistar. Ele funciona dividindo repetidamente a lista não ordenada pela metade, ordenando cada metade e, em seguida, mesclando as metades ordenadas para criar uma lista ordenada. O processo de mesclagem é a chave para a eficiência do Mergesort."
      ],
      "metadata": {
        "id": "Cmbh8o4AnM2v"
      }
    },
    {
      "cell_type": "markdown",
      "source": [
        "## Primeira Estratégia\n"
      ],
      "metadata": {
        "id": "sM4O3mKrpl5Z"
      }
    },
    {
      "cell_type": "markdown",
      "source": [
        "IPSIS FODASSE"
      ],
      "metadata": {
        "id": "VZO488bbp74o"
      }
    },
    {
      "cell_type": "code",
      "source": [
        "%%writefile thrust_median.cu\n",
        "\n",
        "#include \"cuda_runtime.h\"\n",
        "#include <cuda.h>\n",
        "#include <thrust/host_vector.h>\n",
        "#include <thrust/device_vector.h>\n",
        "#include <thrust/generate.h>\n",
        "#include <thrust/sort.h>\n",
        "#include <thrust/copy.h>\n",
        "#include <algorithm>\n",
        "#include <cstdlib>\n",
        "#include <iostream>\n",
        "#include <stdlib.h>\n",
        "\n",
        "\n",
        "\n",
        "\n",
        "int main( int argc, char *argv[]) {\n",
        "\n",
        "  //Standard parameters\n",
        "  long int numValues = 1000000;\n",
        "\n",
        "\n",
        "  if (argc == 2){\n",
        "    numValues = atoi(argv[1]);\n",
        "    printf(\"NUM VALUES SET TO %ld.\\n\",numValues);\n",
        "\n",
        "  }\n",
        "\n",
        "  else{\n",
        "        printf(\"NUM_VALUES NOT SETTED\\n\");\n",
        "        exit(1);\n",
        "  }\n",
        "  thrust::host_vector<int> h_vec;\n",
        "\n",
        "  for (int i=numValues-1;i >= 0;i--)\n",
        "    h_vec.push_back(i);\n",
        "\n",
        "  // transfer data to the device\n",
        "  thrust::device_vector<int> d_vec = h_vec;\n",
        "\n",
        "  // sort data on the device (846M keys per second on GeForce GTX 480)\n",
        "  thrust::sort(d_vec.begin(), d_vec.end());\n",
        "\n",
        "  // transfer data back to host\n",
        "  thrust::copy(d_vec.begin(), d_vec.end(), h_vec.begin());\n",
        "\n",
        "\n",
        "  double median = 0;\n",
        "\n",
        "  if (h_vec.size() % 2 == 1){\n",
        "   median = h_vec[(numValues-1)/2] ;\n",
        "  }\n",
        "\n",
        "  else\n",
        "    median = (h_vec[(numValues/2)-1] + h_vec[numValues/2]) / 2.0;\n",
        "\n",
        "\n",
        "\n",
        "    printf(\"The median is %.3lf\\n\",median);\n",
        "\n",
        "  return 0;\n",
        "}\n"
      ],
      "metadata": {
        "colab": {
          "base_uri": "https://localhost:8080/"
        },
        "id": "dDeYStA1p9Hu",
        "outputId": "c62f6f5b-71bb-4bec-f5e5-2f0d1c3bf12e"
      },
      "execution_count": null,
      "outputs": [
        {
          "output_type": "stream",
          "name": "stdout",
          "text": [
            "Writing thrust_median.cu\n"
          ]
        }
      ]
    },
    {
      "cell_type": "markdown",
      "source": [
        "## Segunda estratégia"
      ],
      "metadata": {
        "id": "e9QuyWMjuf3R"
      }
    },
    {
      "cell_type": "markdown",
      "source": [
        "PSI FODAS"
      ],
      "metadata": {
        "id": "rXtZHOInujqx"
      }
    },
    {
      "cell_type": "code",
      "source": [
        "%%writefile bitonic_median.cu\n",
        "\n",
        "#include \"cuda_runtime.h\"\n",
        "#include \"device_launch_parameters.h\"\n",
        "#include <cuda.h>\n",
        "#include <iostream>\n",
        "#include <cstdlib>\n",
        "#include <ctime>\n",
        "#include <algorithm>\n",
        "\n",
        "#define MAX_THREADS_PER_BLOCK 256\n",
        "\n",
        "//GPU Kernel Implementation of Bitonic Sort\n",
        "__global__ void bitonicSortGPU_(int* arr, int j, int k)\n",
        "{\n",
        "    unsigned int i, ij;\n",
        "\n",
        "    i = threadIdx.x + blockDim.x * blockIdx.x;\n",
        "\n",
        "    ij = i ^ j;\n",
        "\n",
        "    if (ij > i)\n",
        "    {\n",
        "        if ((i & k) == 0)\n",
        "        {\n",
        "            if (arr[i] > arr[ij])\n",
        "            {\n",
        "                int temp = arr[i];\n",
        "                arr[i] = arr[ij];\n",
        "                arr[ij] = temp;\n",
        "            }\n",
        "        }\n",
        "        else\n",
        "        {\n",
        "            if (arr[i] < arr[ij])\n",
        "            {\n",
        "                int temp = arr[i];\n",
        "                arr[i] = arr[ij];\n",
        "                arr[ij] = temp;\n",
        "            }\n",
        "        }\n",
        "    }\n",
        "}\n",
        "\n",
        "void bitonicSortGPU(int *arr,int size){\n",
        "\n",
        "    int* gpuArrbiton;\n",
        "\n",
        "\n",
        "    //Set number of threads and blocks for kernel calls\n",
        "    int threadsPerBlock = MAX_THREADS_PER_BLOCK;\n",
        "    int blocksPerGrid = (size + threadsPerBlock - 1) / threadsPerBlock;\n",
        "\n",
        "\n",
        "    cudaMalloc((void**)&gpuArrbiton, size * sizeof(int));\n",
        "\n",
        "    // Copy the input array to GPU memory\n",
        "    cudaMemcpy(gpuArrbiton, arr, size * sizeof(int), cudaMemcpyHostToDevice);\n",
        "\n",
        "    for (int k = 2; k <= size; k <<= 1)\n",
        "    {\n",
        "        for (int j = k >> 1; j > 0; j = j >> 1)\n",
        "\n",
        "            bitonicSortGPU_<<<blocksPerGrid, threadsPerBlock >>> (gpuArrbiton, j, k);\n",
        "\n",
        "    }\n",
        "\n",
        "    cudaMemcpy(arr, gpuArrbiton, size * sizeof(int), cudaMemcpyDeviceToHost);\n",
        "    return;\n",
        "\n",
        "\n",
        "}\n",
        "int main(int argc, char *argv[]){\n",
        "\n",
        "  //Standard parameters\n",
        "  long int numValues = 1000000;\n",
        "\n",
        "\n",
        "  if (argc == 2){\n",
        "    numValues = atoi(argv[1]);\n",
        "    printf(\"NUM VALUES SET TO %ld.\\n\",numValues);\n",
        "\n",
        "  }\n",
        "\n",
        "  else{\n",
        "        printf(\"NUM_VALUES NOT SETTED\\n\");\n",
        "        exit(1);\n",
        "  }\n",
        "\n",
        "  //Create CPU based Arrays\n",
        "  int* arr = new int[numValues];\n",
        "\n",
        "int j=0;\n",
        "  for (int i=numValues-1;i>=0;i--){\n",
        "    arr[j] = i;\n",
        "    j += 1;\n",
        "  }\n",
        "\n",
        "  bitonicSortGPU(arr,numValues);\n",
        "\n",
        "  double median = 0;\n",
        "\n",
        "  if (numValues % 2 == 1){\n",
        "   median = arr[(numValues-1)/2] ;\n",
        "  }\n",
        "\n",
        "  else\n",
        "    median = (arr[(numValues/2)-1] + arr[numValues/2]) / 2.0;\n",
        "\n",
        "\n",
        "\n",
        "    printf(\"The median is %lf\\n\",median);\n",
        "\n",
        "\n",
        "\n",
        "  return 0;\n",
        "\n",
        "\n",
        "}\n"
      ],
      "metadata": {
        "id": "V7hLD-G5ukeo"
      },
      "execution_count": null,
      "outputs": []
    },
    {
      "cell_type": "markdown",
      "source": [
        "## Terceira estratégia"
      ],
      "metadata": {
        "id": "Ya6yB_X4vNHl"
      }
    },
    {
      "cell_type": "markdown",
      "source": [
        "PSIS"
      ],
      "metadata": {
        "id": "lDUlXsbQvPRz"
      }
    },
    {
      "cell_type": "code",
      "source": [
        "%%writefile merge_median.cu\n",
        "\n",
        "\n",
        "#include <iostream>\n",
        "#include <cstdio>\n",
        "#include <algorithm>\n",
        "#include <getopt.h>\n",
        "#include <string.h>\n",
        "#include <fstream>\n",
        "#include <cuda.h>\n",
        "#include <cuda_runtime.h>\n",
        "#include <driver_functions.h>\n",
        "#include <assert.h>\n",
        "#include <thread>\n",
        "#include <vector>\n",
        "\n",
        "\n",
        "\n",
        "\n",
        "#define NUM_GPUS 3\n",
        "\n",
        "\n",
        "\n",
        "__device__ void merge(int l,int m,int r,int data[],int tmp[])\n",
        "{\n",
        "    int i=l,j=m,k=l;\n",
        "    while (i<m&&j<r)\n",
        "    {\n",
        "        if (tmp[i]<=tmp[j])\n",
        "        {\n",
        "            data[k++]=tmp[i++];\n",
        "        }\n",
        "        else\n",
        "        {\n",
        "            data[k++]=tmp[j++];\n",
        "        }\n",
        "    }\n",
        "    while (i<m) data[k++]=tmp[i++];\n",
        "    while (j<r) data[k++]=tmp[j++];\n",
        "}\n",
        "\n",
        "\n",
        "\n",
        "__global__ void\n",
        "merge_kernel(int N, int chunk,int data[],int tmp[])\n",
        "{\n",
        "    int index = blockIdx.x * blockDim.x + threadIdx.x;\n",
        "\n",
        "    if (index>N) return ;\n",
        "    //当数据量过多时，这里会发生溢出。暂时使用变负数。\n",
        "    int start=index*chunk;\n",
        "    if (start>=N || start<0) return ;\n",
        "\n",
        "    int left=start;\n",
        "    int mid=min(start+(int)(chunk/2),N);\n",
        "    int right=min(start+chunk,N);\n",
        "    // printf(\"l=%d,m=%d,r=%d\\n\",left,mid,right);\n",
        "    // if (start<0) assert(0);\n",
        "    merge(left, mid,right,data,tmp);\n",
        "}\n",
        "\n",
        "//cuda merge sort 就是chunk取2的幂次然后每个kernel会出里start+chunk的数据\n",
        "\n",
        "\n",
        "\n",
        "void mergeSort(int N,int *input,int *output,int device=0)\n",
        "{\n",
        "    cudaSetDevice(device);\n",
        "\n",
        "    int *device_i;\n",
        "    int *tmp;\n",
        "    cudaMalloc((void **)&device_i, N*sizeof(int));\n",
        "    cudaMalloc((void **)&tmp, N*sizeof(int));\n",
        "\n",
        "\n",
        "    cudaMemcpy(device_i, input, N*sizeof(int), cudaMemcpyHostToDevice);\n",
        "    cudaMemcpy(tmp, input, N*sizeof(int), cudaMemcpyHostToDevice);\n",
        "\n",
        "\n",
        "\n",
        "    for (int chunk=2;chunk<2*N;chunk*=2)\n",
        "    {\n",
        "        // const int threadsPerBlock = 512;\n",
        "        const int threadsPerBlock=1;\n",
        "        const int blocks = ((N + threadsPerBlock*chunk - 1) / (threadsPerBlock*chunk));\n",
        "        merge_kernel<<<blocks,threadsPerBlock>>>(N,chunk,device_i,tmp);\n",
        "        cudaDeviceSynchronize();\n",
        "        merge_kernel<<<blocks,threadsPerBlock>>>(N,chunk,tmp,device_i);\n",
        "        cudaDeviceSynchronize();\n",
        "    }\n",
        "\n",
        "\n",
        "    cudaMemcpy(output, device_i, N*sizeof(int), cudaMemcpyDeviceToHost);\n",
        "\n",
        "    cudaError_t errCode = cudaPeekAtLastError();\n",
        "    if (errCode != cudaSuccess) {\n",
        "        fprintf(stderr, \"WARNING: A CUDA error occured: code=%d, %s\\n\", errCode, cudaGetErrorString(errCode));\n",
        "    }\n",
        "\n",
        "\n",
        "\n",
        "    cudaFree(device_i);\n",
        "    cudaFree(tmp);\n",
        "}\n",
        "\n",
        "void mergeSortMultiGPU(int N,int *input,int *output,int offset,int device=0)\n",
        "{\n",
        "    cudaSetDevice(device);\n",
        "\n",
        "    int *device_i;\n",
        "    int *tmp;\n",
        "    cudaMalloc((void **)&device_i, N*sizeof(int));\n",
        "    cudaMalloc((void **)&tmp, N*sizeof(int));\n",
        "\n",
        "\n",
        "    cudaMemcpy(device_i, &input[offset], N*sizeof(int), cudaMemcpyHostToDevice);\n",
        "    cudaMemcpy(tmp, &input[offset], N*sizeof(int), cudaMemcpyHostToDevice);\n",
        "\n",
        "\n",
        "\n",
        "    for (int chunk=2;chunk<2*N;chunk*=2)\n",
        "    {\n",
        "        // const int threadsPerBlock = 512;\n",
        "        const int threadsPerBlock=1;\n",
        "        const int blocks = ((N + threadsPerBlock*chunk - 1) / (threadsPerBlock*chunk));\n",
        "        merge_kernel<<<blocks,threadsPerBlock>>>(N,chunk,device_i,tmp);\n",
        "        cudaDeviceSynchronize();\n",
        "        merge_kernel<<<blocks,threadsPerBlock>>>(N,chunk,tmp,device_i);\n",
        "        cudaDeviceSynchronize();\n",
        "    }\n",
        "\n",
        "\n",
        "    cudaMemcpy(output, device_i, N*sizeof(int), cudaMemcpyDeviceToHost);\n",
        "\n",
        "    cudaError_t errCode = cudaPeekAtLastError();\n",
        "    if (errCode != cudaSuccess) {\n",
        "        fprintf(stderr, \"WARNING: A CUDA error occured: code=%d, %s\\n\", errCode, cudaGetErrorString(errCode));\n",
        "    }\n",
        "\n",
        "\n",
        "\n",
        "    cudaFree(device_i);\n",
        "    cudaFree(tmp);\n",
        "}\n",
        "\n",
        "\n",
        "void calculateElements(int *elementsPerGPU,int shards_num,long int vectorSize){\n",
        "\n",
        "        //Define o tamanho de cada shard\n",
        "    for (int i=0;i<shards_num;i++){\n",
        "\n",
        "        if (i != (shards_num)-1){ elementsPerGPU[i] = vectorSize / (shards_num);}\n",
        "\n",
        "        else{\n",
        "            elementsPerGPU[i] = vectorSize;\n",
        "\n",
        "            for (int j=0;j<i;j++)\n",
        "                elementsPerGPU[i] -= elementsPerGPU[j];\n",
        "\n",
        "\n",
        "        }\n",
        "    }\n",
        "\n",
        "    return;\n",
        "}\n",
        "\n",
        "void merging_partial_results(int *elementsPerGPU, int **partial_results,int numValues,int *results){\n",
        "\n",
        "  int control[NUM_GPUS];\n",
        "\n",
        "  for(int i=0;i<NUM_GPUS;i++)\n",
        "    control[i] = 0;\n",
        "\n",
        "\n",
        "  for(int i=0;i<numValues;i++){\n",
        "\n",
        "    int menor = INT_MAX;\n",
        "    int idx_menor = -1;\n",
        "\n",
        "    for(int j=0;j<NUM_GPUS;j++){\n",
        "\n",
        "      if (control[j] == elementsPerGPU[j]){continue;}\n",
        "\n",
        "\n",
        "      else if (j == 0){ menor = partial_results[j][control[j]]; idx_menor = j;}\n",
        "\n",
        "      else{ if (menor > partial_results[j][control[j]] ) {menor = partial_results[j][control[j]]; idx_menor = j;}}\n",
        "\n",
        "    }\n",
        "    control[idx_menor] += 1;\n",
        "    results[i] = menor;\n",
        "  }\n",
        "\n",
        "  for(int i=0;i<NUM_GPUS;i++)\n",
        "    printf(\"%d -> %d (%d)\", i, control[i], elementsPerGPU[i]);\n",
        "\n",
        "\n",
        "\n",
        "}\n",
        "\n",
        "void printArray(int* A, int size)\n",
        "{\n",
        "\tint i;\n",
        "\tfor (i = 0; i < size; i++)\n",
        "\t\tprintf(\"%d \", A[i]);\n",
        "\tprintf(\"\\n\");\n",
        "}\n",
        "\n",
        "void printArray2(int* A, int size)\n",
        "{\n",
        "\tint i;\n",
        "\tfor (i = size-1; i < size-10; i++)\n",
        "\t\tprintf(\"%d \", A[i]);\n",
        "\tprintf(\"\\n\");\n",
        "}\n",
        "\n",
        "int main(int argc, char *argv[]){\n",
        "\n",
        "  //Standard parameters\n",
        "  long int numValues = 1000000;\n",
        "\n",
        "\n",
        "  if (argc == 2){\n",
        "    numValues = atoi(argv[1]);\n",
        "    printf(\"NUM VALUES SET TO %ld.\\n\",numValues);\n",
        "\n",
        "  }\n",
        "\n",
        "  else{\n",
        "        printf(\"NUM_VALUES NOT SETTED\\n\");\n",
        "        exit(1);\n",
        "  }\n",
        "\n",
        "  //Create CPU based Arrays\n",
        "  int* arr = new int[numValues];\n",
        "  int*  result = new int[numValues];\n",
        "\n",
        "\n",
        "  int j=0;\n",
        "  for (int i=numValues-1;i>=0;i--){\n",
        "    arr[j] = i;\n",
        "    j += 1;\n",
        "  }\n",
        "\n",
        "  if (NUM_GPUS == 1){\n",
        "    mergeSort(numValues,arr,result,0);\n",
        "  }\n",
        "  else{\n",
        "\n",
        "    int *elements_per_GPU;\n",
        "    elements_per_GPU = (int*)malloc(NUM_GPUS*sizeof(int));\n",
        "    int *partial_results[NUM_GPUS];\n",
        "\n",
        "\n",
        "    calculateElements(elements_per_GPU,NUM_GPUS,numValues);\n",
        "\n",
        "    for(int i=0;i<NUM_GPUS;i++)\n",
        "      partial_results[i] = new int[elements_per_GPU[i]];\n",
        "\n",
        "    std::vector<std::thread> threads;\n",
        "\n",
        "    for (int i=0;i<NUM_GPUS;i++){\n",
        "      threads.push_back (std::thread ([elements_per_GPU, i,arr,partial_results] () {\n",
        "\n",
        "\n",
        "\n",
        "        mergeSortMultiGPU(elements_per_GPU[i],arr,partial_results[i],i*elements_per_GPU[0],i);\n",
        "      }));\n",
        "  }\n",
        "\n",
        "    for (auto &t: threads)\n",
        "    t.join ();\n",
        "\n",
        "\n",
        "\n",
        "  merging_partial_results(elements_per_GPU, partial_results,numValues,result);\n",
        "\n",
        "\n",
        "  }\n",
        "\n",
        "\n",
        "  double median = 0;\n",
        "\n",
        "  if (numValues % 2 == 1){\n",
        "   median = result[(numValues-1)/2] ;\n",
        "  }\n",
        "\n",
        "  else\n",
        "    median = (result[(numValues/2)-1] + result[numValues/2]) / 2.0;\n",
        "\n",
        "//  printArray(result,numValues);\n",
        "\n",
        "    printf(\"The median is %f\\n\",median);\n",
        "\n",
        "  return 0;\n",
        "\n",
        "}\n"
      ],
      "metadata": {
        "id": "jbYBQnnJvQVk"
      },
      "execution_count": null,
      "outputs": []
    }
  ]
}